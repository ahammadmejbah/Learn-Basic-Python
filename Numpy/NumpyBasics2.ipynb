{
 "cells": [
  {
   "cell_type": "markdown",
   "metadata": {},
   "source": [
    "### 1 Create a numpy structured array using the emp.csv file available in common folder.\n",
    "#### 1.1 display all the records.\n",
    "#### 1.2 display names of officers.\n",
    "#### 1.3 display all the scientists records.\n",
    "#### 1.4 display the total salary.\n",
    "#### 1.5 display average salary of engineers.\n",
    "#### 1.6 display employees in the ascending order of salary.\n",
    "#### 1.7 display employees in the ascending order of designation and then salary.\n",
    "#### 1.8 display the lowest salary for scientist designation.\n",
    "#### 1.9 display records of employees who are scientists and are drawing the lowest salary(without using sort).\n",
    " "
   ]
  },
  {
   "cell_type": "code",
   "execution_count": 1,
   "metadata": {},
   "outputs": [],
   "source": [
    "import numpy as np"
   ]
  },
  {
   "cell_type": "code",
   "execution_count": 2,
   "metadata": {},
   "outputs": [],
   "source": [
    "datype = np.dtype({'names': ['ename','eno','edesign','esal','ephone'],'formats':['S20','i8','S20','f8','S20']})\n",
    "\n",
    "atf = np.loadtxt('emp.csv',delimiter=',',skiprows=1,dtype=datype)\n"
   ]
  },
  {
   "cell_type": "markdown",
   "metadata": {},
   "source": [
    "### np.loadtxt vs pandas"
   ]
  },
  {
   "cell_type": "code",
   "execution_count": 3,
   "metadata": {},
   "outputs": [
    {
     "name": "stdout",
     "output_type": "stream",
     "text": [
      "<class 'numpy.ndarray'>\n",
      "(10, 5)\n",
      "[['K.Raj' 101 'scientist' 50000.0 '(0493)-2287278']\n",
      " ['Mohan Raj M.' 102 'engineer' 50000.0 '[0496]-2287278']\n",
      " ['M.Ram' 104 'scientist' 80000.0 '(0491)-4287275']\n",
      " ['Ram Kumar' 104 'scientist' 60000.0 '(0491)-4287335']\n",
      " ['Mohan Babu K.K.' 106 'officer' 50000.0 '{0496}-2387278']\n",
      " ['K.Gopal' 107 'scientist' 50000.0 '(0493)-2287278']\n",
      " ['Anil Raj M.' 108 'engineer' 50000.0 '{0496]-2287278']\n",
      " ['Amala P.' 201 'scientist' 70000.0 '(0498)-9287275']\n",
      " ['Uma ' 204 'officer' 60000.0 '(0491)-4287335']\n",
      " ['Suma' 206 'engineer' 50000.0 '0496_2387278']]\n",
      "<class 'numpy.ndarray'>\n",
      "(10,)\n",
      "[(b'K.Raj', 101, b'scientist', 50000., b'(0493)-2287278')\n",
      " (b'Mohan Raj M.', 102, b'engineer', 50000., b'[0496]-2287278')\n",
      " (b'M.Ram', 104, b'scientist', 80000., b'(0491)-4287275')\n",
      " (b'Ram Kumar', 104, b'scientist', 60000., b'(0491)-4287335')\n",
      " (b'Mohan Babu K.K.', 106, b'officer', 50000., b'{0496}-2387278')\n",
      " (b'K.Gopal', 107, b'scientist', 50000., b'(0493)-2287278')\n",
      " (b'Anil Raj M.', 108, b'engineer', 50000., b'{0496]-2287278')\n",
      " (b'Amala P.', 201, b'scientist', 70000., b'(0498)-9287275')\n",
      " (b'Uma ', 204, b'officer', 60000., b'(0491)-4287335')\n",
      " (b'Suma', 206, b'engineer', 50000., b'0496_2387278')]\n"
     ]
    }
   ],
   "source": [
    "import pandas as pd\n",
    "\n",
    "dd = pd.read_csv('emp.csv')\n",
    "temp = dd.values\n",
    "\n",
    "print(type(temp))\n",
    "print(temp.shape)\n",
    "\n",
    "print(temp)\n",
    "\n",
    "print(type(atf))\n",
    "print(atf.shape)\n",
    "\n",
    "print(atf)"
   ]
  },
  {
   "cell_type": "code",
   "execution_count": 4,
   "metadata": {},
   "outputs": [
    {
     "data": {
      "text/plain": [
       "array([b'K.Raj', b'Mohan Raj M.', b'M.Ram', b'Ram Kumar',\n",
       "       b'Mohan Babu K.K.', b'K.Gopal', b'Anil Raj M.', b'Amala P.',\n",
       "       b'Uma ', b'Suma'], dtype='|S20')"
      ]
     },
     "execution_count": 4,
     "metadata": {},
     "output_type": "execute_result"
    }
   ],
   "source": [
    "# names of officers\n",
    "atf['ename']"
   ]
  },
  {
   "cell_type": "code",
   "execution_count": 5,
   "metadata": {},
   "outputs": [
    {
     "data": {
      "text/plain": [
       "array([], shape=(0, 10),\n",
       "      dtype=[('ename', 'S20'), ('eno', '<i8'), ('edesign', 'S20'), ('esal', '<f8'), ('ephone', 'S20')])"
      ]
     },
     "execution_count": 5,
     "metadata": {},
     "output_type": "execute_result"
    }
   ],
   "source": [
    "# scientists records\n",
    "atf[atf['edesign'] == 'scientist']"
   ]
  },
  {
   "cell_type": "code",
   "execution_count": 6,
   "metadata": {},
   "outputs": [
    {
     "data": {
      "text/plain": [
       "570000.0"
      ]
     },
     "execution_count": 6,
     "metadata": {},
     "output_type": "execute_result"
    }
   ],
   "source": [
    "# total salary\n",
    "atf['esal'].sum()"
   ]
  },
  {
   "cell_type": "code",
   "execution_count": 7,
   "metadata": {},
   "outputs": [
    {
     "data": {
      "text/plain": [
       "[4, 3, 2, 1]"
      ]
     },
     "execution_count": 7,
     "metadata": {},
     "output_type": "execute_result"
    }
   ],
   "source": [
    "# test reversal :: op\n",
    "l1 = [1,2,3,4]\n",
    "l1[::-1]"
   ]
  },
  {
   "cell_type": "code",
   "execution_count": 8,
   "metadata": {},
   "outputs": [
    {
     "name": "stdout",
     "output_type": "stream",
     "text": [
      "[(b'Anil Raj M.', 108, b'engineer', 50000., b'{0496]-2287278')\n",
      " (b'K.Gopal', 107, b'scientist', 50000., b'(0493)-2287278')\n",
      " (b'K.Raj', 101, b'scientist', 50000., b'(0493)-2287278')\n",
      " (b'Mohan Babu K.K.', 106, b'officer', 50000., b'{0496}-2387278')\n",
      " (b'Mohan Raj M.', 102, b'engineer', 50000., b'[0496]-2287278')\n",
      " (b'Suma', 206, b'engineer', 50000., b'0496_2387278')\n",
      " (b'Ram Kumar', 104, b'scientist', 60000., b'(0491)-4287335')\n",
      " (b'Uma ', 204, b'officer', 60000., b'(0491)-4287335')\n",
      " (b'Amala P.', 201, b'scientist', 70000., b'(0498)-9287275')\n",
      " (b'M.Ram', 104, b'scientist', 80000., b'(0491)-4287275')]\n"
     ]
    }
   ],
   "source": [
    "#  employees in the ascending order of salary\n",
    "atf.sort(order='esal')\n",
    "print(atf)"
   ]
  },
  {
   "cell_type": "code",
   "execution_count": 9,
   "metadata": {},
   "outputs": [],
   "source": [
    "# employees in the ascending order of designation and then salary."
   ]
  }
 ],
 "metadata": {
  "kernelspec": {
   "display_name": "Python 3 (ipykernel)",
   "language": "python",
   "name": "python3"
  },
  "language_info": {
   "codemirror_mode": {
    "name": "ipython",
    "version": 3
   },
   "file_extension": ".py",
   "mimetype": "text/x-python",
   "name": "python",
   "nbconvert_exporter": "python",
   "pygments_lexer": "ipython3",
   "version": "3.7.13"
  }
 },
 "nbformat": 4,
 "nbformat_minor": 4
}
