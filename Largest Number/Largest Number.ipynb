{
 "cells": [
  {
   "cell_type": "code",
   "execution_count": 3,
   "id": "4873b36c-f138-41d8-8b08-b6ec3367c243",
   "metadata": {},
   "outputs": [
    {
     "name": "stdin",
     "output_type": "stream",
     "text": [
      "Enter 1st number :  4\n",
      "Enter 2nd number :  8\n",
      "Enter 3rd number :  9\n"
     ]
    },
    {
     "name": "stdout",
     "output_type": "stream",
     "text": [
      "Largest :  9\n"
     ]
    }
   ],
   "source": [
    "\"\"\" Deep Neuron AI \"\"\"\n",
    "    \n",
    "def largest(num1,num2,num3):\n",
    "    result = num1\n",
    "    if(num2 > result):\n",
    "        result = num2\n",
    "    if(num3 > result):\n",
    "        result = num3\n",
    "    print(\"Largest : \",result)\n",
    "\n",
    "x=int(input(\"Enter 1st number : \"))\n",
    "y=int(input(\"Enter 2nd number : \"))\n",
    "z=int(input(\"Enter 3rd number : \"))\n",
    "\n",
    "largest(x,y,z)\n",
    "\n"
   ]
  },
  {
   "cell_type": "code",
   "execution_count": null,
   "id": "e26306ca-d750-4a84-a8ca-f6193b98aaf6",
   "metadata": {},
   "outputs": [],
   "source": []
  }
 ],
 "metadata": {
  "kernelspec": {
   "display_name": "Python 3 (ipykernel)",
   "language": "python",
   "name": "python3"
  },
  "language_info": {
   "codemirror_mode": {
    "name": "ipython",
    "version": 3
   },
   "file_extension": ".py",
   "mimetype": "text/x-python",
   "name": "python",
   "nbconvert_exporter": "python",
   "pygments_lexer": "ipython3",
   "version": "3.7.13"
  }
 },
 "nbformat": 4,
 "nbformat_minor": 5
}
