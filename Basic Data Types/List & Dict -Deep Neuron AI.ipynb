{
 "cells": [
  {
   "cell_type": "code",
   "execution_count": 1,
   "metadata": {},
   "outputs": [
    {
     "name": "stdout",
     "output_type": "stream",
     "text": [
      "Python Language Version Used In This Jupyter Notebook: 3.7.13\n"
     ]
    }
   ],
   "source": [
    "from platform import python_version\n",
    "print('Python Language Version Used In This Jupyter Notebook:', python_version())"
   ]
  },
  {
   "cell_type": "code",
   "execution_count": 2,
   "metadata": {},
   "outputs": [
    {
     "name": "stdout",
     "output_type": "stream",
     "text": [
      "[1, 2, 3, 4, 5, 6, 7, 8, 9, 10]\n"
     ]
    }
   ],
   "source": [
    "# Exercise 1 - Print the numbers from 1 to 10 on the screen. Use a list to store the numbers.\n",
    "lista = [1,2,3,4,5,6,7,8,9,10]\n",
    "print(lista)"
   ]
  },
  {
   "cell_type": "code",
   "execution_count": 3,
   "metadata": {},
   "outputs": [
    {
     "name": "stdout",
     "output_type": "stream",
     "text": [
      "['chocolate', 'banana', 'abacaxi', 'uva', 'morango']\n"
     ]
    }
   ],
   "source": [
    "# Exercise 2 - Create a list of 5 objects and print it on the screen\n",
    "lista = ['chocolate', 'banana', 'abacaxi', 'uva', 'morango']\n",
    "print(lista)"
   ]
  },
  {
   "cell_type": "code",
   "execution_count": 4,
   "metadata": {},
   "outputs": [
    {
     "name": "stdout",
     "output_type": "stream",
     "text": [
      "DeepNeuron AI!\n"
     ]
    }
   ],
   "source": [
    "# Exercise 3 - Create two strings and concatenate the two into a third string\n",
    "frase1 = 'Deep'\n",
    "frase2 = 'Neuron AI!'\n",
    "frase_final = frase1 + frase2\n",
    "print(frase_final)"
   ]
  },
  {
   "cell_type": "code",
   "execution_count": 5,
   "metadata": {},
   "outputs": [
    {
     "data": {
      "text/plain": [
       "3"
      ]
     },
     "execution_count": 5,
     "metadata": {},
     "output_type": "execute_result"
    }
   ],
   "source": [
    "# Exercise 4 - Create a tuple with the following elements: 1, 2, 2, 3, 4, 4, 4, 5 and then use the count function of\n",
    "# tuple object to check how many times the number 4 appears in the tuple\n",
    "tup1 = (1, 2, 2, 3, 4, 4, 4, 5)\n",
    "tup1.count(4)"
   ]
  },
  {
   "cell_type": "code",
   "execution_count": 6,
   "metadata": {},
   "outputs": [
    {
     "name": "stdout",
     "output_type": "stream",
     "text": [
      "{}\n"
     ]
    }
   ],
   "source": [
    "# Exercise 5 - Create an empty dictionary and print it to the screen\n",
    "dict3 = {}\n",
    "print(dict3)"
   ]
  },
  {
   "cell_type": "code",
   "execution_count": 7,
   "metadata": {},
   "outputs": [
    {
     "name": "stdout",
     "output_type": "stream",
     "text": [
      "{'k1': 'hammer', 'k2': 'saw', 'k3': 'axe'}\n"
     ]
    }
   ],
   "source": [
    "# Exercise 6 - Create a dictionary with 3 keys and 3 values and print it on the screen\n",
    "dict = {'k1':'hammer', 'k2':'saw', 'k3':'axe'}\n",
    "print(dict)"
   ]
  },
  {
   "cell_type": "code",
   "execution_count": 8,
   "metadata": {},
   "outputs": [
    {
     "name": "stdout",
     "output_type": "stream",
     "text": [
      "{'k1': 'hammer', 'k2': 'saw', 'k3': 'axe', 'k4': 'Deep'}\n"
     ]
    }
   ],
   "source": [
    "# Exercise 7 - Add one more element to the dictionary created in the previous exercise and print it on the screen\n",
    "dict['k4'] = 'Deep'\n",
    "print(dict)"
   ]
  },
  {
   "cell_type": "code",
   "execution_count": 9,
   "metadata": {},
   "outputs": [
    {
     "name": "stdout",
     "output_type": "stream",
     "text": [
      "{'key 1': 'Geography', 'key 2': 'Biology', 'key 3': [70, 90]}\n"
     ]
    }
   ],
   "source": [
    "# Exercise 8 - Create a dictionary with 3 keys and 3 values. One of the values must be a list of 2 numeric elements.\n",
    "# Print the dictionary on the screen.\n",
    "dict2 = {'key 1':'Geography', 'key 2':'Biology', 'key 3':[70, 90]}\n",
    "print(dict2)"
   ]
  },
  {
   "cell_type": "code",
   "execution_count": 10,
   "metadata": {},
   "outputs": [
    {
     "name": "stdout",
     "output_type": "stream",
     "text": [
      "['String1', (90, 92), {'k1': 'v1', 'k2': 'v2'}, 99.98]\n"
     ]
    }
   ],
   "source": [
    "# Exercise 9 - Create a list of 4 elements. The first element must be a string,\n",
    "# the second a tuple of 2 elements, the third a dictionary with 2 keys and 2 values and\n",
    "# the fourth element a value of type float.\n",
    "# Print the list on the screen.\n",
    "lst = ['String1', (90, 92), {'k1':'v1', 'k2':'v2'}, 99.98]\n",
    "print(lst)"
   ]
  },
  {
   "cell_type": "code",
   "execution_count": 11,
   "metadata": {},
   "outputs": [
    {
     "data": {
      "text/plain": [
       "'Data Scientist is '"
      ]
     },
     "execution_count": 11,
     "metadata": {},
     "output_type": "execute_result"
    }
   ],
   "source": [
    "# Exercise 10 - Consider the string below. Print on the screen only characters from position 1 to 18.\n",
    "phrase = 'Data Scientist is the sexiest professional of the 21st century'\n",
    "phrase[0:18]"
   ]
  },
  {
   "cell_type": "markdown",
   "metadata": {},
   "source": [
    "Note: Before thinking that the above result is wrong, reflect with me:\n",
    "        \n",
    "In a race or marathon who makes it to the podium? Those who are in positions 1, 2 and 3, right? Is there zero position? No! Well then!\n",
    "\n",
    "The exercise above asks for characters in positions 1 to 18 (there is no zero position). In Python, indexing (which represents the index) starts with zero. Therefore, positions from 1 to 18 are in the indexes from 0 to 18 (because 18 is exclusive and therefore we have 0 to 17, therefore 18 positions)."
   ]
  }
 ],
 "metadata": {
  "kernelspec": {
   "display_name": "Python 3 (ipykernel)",
   "language": "python",
   "name": "python3"
  },
  "language_info": {
   "codemirror_mode": {
    "name": "ipython",
    "version": 3
   },
   "file_extension": ".py",
   "mimetype": "text/x-python",
   "name": "python",
   "nbconvert_exporter": "python",
   "pygments_lexer": "ipython3",
   "version": "3.7.13"
  }
 },
 "nbformat": 4,
 "nbformat_minor": 4
}
