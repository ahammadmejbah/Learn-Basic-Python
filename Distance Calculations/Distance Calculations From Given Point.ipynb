{
 "cells": [
  {
   "cell_type": "code",
   "execution_count": 5,
   "id": "8f8243c8-5b7d-4364-9333-58eb8579ff38",
   "metadata": {},
   "outputs": [
    {
     "name": "stdin",
     "output_type": "stream",
     "text": [
      "Enter x1 :  3\n",
      "Enter y1 :  6\n",
      "Enter x2 :  7\n",
      "Enter y2 :  2\n"
     ]
    },
    {
     "name": "stdout",
     "output_type": "stream",
     "text": [
      "Distance between points :  5.66\n"
     ]
    }
   ],
   "source": [
    "\"\"\"Deep Neuron AI\"\"\"\n",
    "\n",
    "import math\n",
    "\n",
    "def distance(x1,y1,x2,y2):\n",
    "    distance = math.sqrt( (x1-x2)**2 + (y1-y2)**2 )\n",
    "    return distance\n",
    "\n",
    "x1=int(input(\"Enter x1 : \"))\n",
    "y1=int(input(\"Enter y1 : \"))\n",
    "x2=int(input(\"Enter x2 : \"))\n",
    "y2=int(input(\"Enter y2 : \"))\n",
    "\n",
    "print(\"Distance between points : \", round(distance(x1,y1,x2,y2),2))"
   ]
  },
  {
   "cell_type": "code",
   "execution_count": null,
   "id": "dc1bfd6c-1207-4a68-85cf-09c876ccb25c",
   "metadata": {},
   "outputs": [],
   "source": []
  }
 ],
 "metadata": {
  "kernelspec": {
   "display_name": "Python 3 (ipykernel)",
   "language": "python",
   "name": "python3"
  },
  "language_info": {
   "codemirror_mode": {
    "name": "ipython",
    "version": 3
   },
   "file_extension": ".py",
   "mimetype": "text/x-python",
   "name": "python",
   "nbconvert_exporter": "python",
   "pygments_lexer": "ipython3",
   "version": "3.7.13"
  }
 },
 "nbformat": 4,
 "nbformat_minor": 5
}
