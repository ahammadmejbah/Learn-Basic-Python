{
 "cells": [
  {
   "cell_type": "markdown",
   "metadata": {},
   "source": [
    "### Write a program to store,display vector quantities. Also, define + operator for vectors."
   ]
  },
  {
   "cell_type": "code",
   "execution_count": 1,
   "metadata": {},
   "outputs": [
    {
     "name": "stdout",
     "output_type": "stream",
     "text": [
      "vector : (3.000,2.000)\n",
      "vector : (2.000,3.000)\n",
      "vector : (5.000,5.000)\n"
     ]
    }
   ],
   "source": [
    "class vector:\n",
    "    def __init__(self,px,py):\n",
    "        self.x = px\n",
    "        self.y = py\n",
    "    def display(self):\n",
    "        print(\"vector : (%.3f,%.3f)\"%(self.x,self.y))\n",
    "    def __add__(self,v2):\n",
    "        return vector(self.x+v2.x, self.y+v2.y )\n",
    "        \n",
    "s1= vector(3,2)\n",
    "s2 = vector(2,3)\n",
    "s3 = s1+s2\n",
    "s1.display()\n",
    "s2.display()\n",
    "s3.display()"
   ]
  },
  {
   "cell_type": "markdown",
   "metadata": {},
   "source": [
    "### 2. Write a program to store,display complex numbers. Also, define + operator for two complex numbers.\n",
    "\t(a+bi) + (c+di) = (a+c) + (b+d)i"
   ]
  },
  {
   "cell_type": "code",
   "execution_count": 2,
   "metadata": {},
   "outputs": [
    {
     "name": "stdout",
     "output_type": "stream",
     "text": [
      "complex : (32.000+21.000i)\n",
      "complex : (21.000+32.000i)\n",
      "complex : (53.000+53.000i)\n"
     ]
    }
   ],
   "source": [
    "class mycomplex:\n",
    "    def __init__(self,pa,pb):\n",
    "        self.a = pa\n",
    "        self.b = pb\n",
    "    def display(self):\n",
    "        print(\"complex : (%.3f+%.3fi)\"%(self.a,self.b))\n",
    "    def __add__(self,v2):\n",
    "        return mycomplex(self.a+v2.a, self.b+v2.b )\n",
    "    \n",
    "s1= mycomplex(32,21)\n",
    "s2 = mycomplex(21,32)\n",
    "s3 = s1+s2\n",
    "s1.display()\n",
    "s2.display()\n",
    "s3.display()    "
   ]
  },
  {
   "cell_type": "markdown",
   "metadata": {},
   "source": [
    "### 3. Modify the above program to define * for multiplication of two complex numbers.\n",
    "\n",
    "\tExample (3 + 2i) * (1 + 7i)\n",
    "\n",
    "\t(3 + 2i) * (1 + 7i)= 3×1 + 3×7i + 2i×1+ 2i×7i\t \n",
    " \t \t\t   = 3 + 21i + 2i + 14i2\t \n",
    " \t \t\t   = 3 + 21i + 2i - 14\t(because i2 = -1)\n",
    " \t \t\t   = -11 + 23i\t \n",
    "\n",
    "\n",
    "\t OR\n",
    "\n",
    "\tExample: (3 + 2i) * (1 + 7i) = (3×1 - 2×7) + (3×7 + 2×1)i = -11 + 23i"
   ]
  },
  {
   "cell_type": "code",
   "execution_count": 3,
   "metadata": {},
   "outputs": [
    {
     "name": "stdout",
     "output_type": "stream",
     "text": [
      "complex : (3.000+2.000i)\n",
      "complex : (1.000+7.000i)\n",
      "complex : (-11.000+23.000i)\n"
     ]
    }
   ],
   "source": [
    "class mycomplex:\n",
    "    def __init__(self,pa,pb):\n",
    "        self.a = pa\n",
    "        self.b = pb\n",
    "    def display(self):\n",
    "        print(\"complex : (%.3f+%.3fi)\"%(self.a,self.b))\n",
    "    def __add__(self,v2):\n",
    "        return mycomplex(self.a+v2.a, self.b+v2.b )\n",
    "    def __mul__(self,v2):\n",
    "        return mycomplex((self.a*v2.a)+(-1*self.b*v2.b), (self.b*v2.a)+(self.a*v2.b) )\n",
    "    \n",
    "s1= mycomplex(3,2)\n",
    "s2 = mycomplex(1,7)\n",
    "s3 = s1*s2\n",
    "s1.display()\n",
    "s2.display()\n",
    "s3.display()   "
   ]
  }
 ],
 "metadata": {
  "kernelspec": {
   "display_name": "Python 3 (ipykernel)",
   "language": "python",
   "name": "python3"
  },
  "language_info": {
   "codemirror_mode": {
    "name": "ipython",
    "version": 3
   },
   "file_extension": ".py",
   "mimetype": "text/x-python",
   "name": "python",
   "nbconvert_exporter": "python",
   "pygments_lexer": "ipython3",
   "version": "3.7.13"
  }
 },
 "nbformat": 4,
 "nbformat_minor": 4
}
