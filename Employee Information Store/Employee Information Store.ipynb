{
 "cells": [
  {
   "cell_type": "code",
   "execution_count": 6,
   "id": "6c336a01-6239-46e9-b5d7-4ef5cbf97592",
   "metadata": {},
   "outputs": [
    {
     "name": "stdin",
     "output_type": "stream",
     "text": [
      "name? Deep Neuron AI\n",
      "salary 90000\n"
     ]
    },
    {
     "name": "stdout",
     "output_type": "stream",
     "text": [
      "...stored...\n",
      "Emp no:200 , Name:Deep Neuron AI , Salary:90000\n"
     ]
    }
   ],
   "source": [
    "\"\"\" Deep Neuron AI\"\"\"\n",
    "class employee:\n",
    "    slno=200\n",
    "\n",
    "    def __init__(self):\n",
    "        self.empno = employee.slno\n",
    "        employee.slno += 1\n",
    "    \n",
    "    def store(self):\n",
    "        self.name=input(\"name?\")\n",
    "        self.salary=input(\"salary\")\n",
    "        print(\"...stored...\")\n",
    "    \n",
    "    def display(self):\n",
    "        print(\"Emp no:%d , Name:%s , Salary:%s\"%(self.empno,self.name,self.salary))\n",
    "\n",
    "s1=employee()\n",
    "s1.store()\n",
    "s1.display()"
   ]
  },
  {
   "cell_type": "code",
   "execution_count": null,
   "id": "466b11cc-2cef-4dff-9210-575c065c66b7",
   "metadata": {},
   "outputs": [],
   "source": []
  }
 ],
 "metadata": {
  "kernelspec": {
   "display_name": "Python 3 (ipykernel)",
   "language": "python",
   "name": "python3"
  },
  "language_info": {
   "codemirror_mode": {
    "name": "ipython",
    "version": 3
   },
   "file_extension": ".py",
   "mimetype": "text/x-python",
   "name": "python",
   "nbconvert_exporter": "python",
   "pygments_lexer": "ipython3",
   "version": "3.7.13"
  }
 },
 "nbformat": 4,
 "nbformat_minor": 5
}
