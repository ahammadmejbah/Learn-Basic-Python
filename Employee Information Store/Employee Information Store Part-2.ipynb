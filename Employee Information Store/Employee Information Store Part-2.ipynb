{
 "cells": [
  {
   "cell_type": "markdown",
   "metadata": {},
   "source": [
    "### 1.Write a program to create different(two) categories of employees.\n",
    "\n",
    "\t1.1 Create a base class Employee to store name,empno,basicpay\n",
    "\t1.2 Create a derived (from Employee) class Scientist to store Technical allowance and Category (additionally).\n",
    "\t1.3 Create another derived (from Employee) class Officer to store Grade and department (additionally) \n",
    "\t1.4 Create some instances of Scientists and Officers and display the details(by calling respective methods)"
   ]
  },
  {
   "cell_type": "code",
   "execution_count": 1,
   "metadata": {},
   "outputs": [
    {
     "name": "stdin",
     "output_type": "stream",
     "text": [
      "Name? Deep Neuron AI\n",
      "tech allowance? Yes\n",
      "Name? DeepAI\n",
      "grade? 5\n",
      "department? Science\n"
     ]
    },
    {
     "name": "stdout",
     "output_type": "stream",
     "text": [
      "------\n",
      "Name : Deep Neuron AI\n",
      "EmpNo : 101\n",
      "Basicpay : 50000 rs\n",
      "TechAllow : Yes\n",
      "Category : Scientist\n",
      "------\n",
      "Name : DeepAI\n",
      "EmpNo : 102\n",
      "Basicpay : 30000 rs\n",
      "Grade : 5\n",
      "Department : Science\n"
     ]
    }
   ],
   "source": [
    "class baseEmp:\n",
    "    no = 100\n",
    "    \n",
    "    def __init__(self,bpay):\n",
    "        baseEmp.no += 1\n",
    "        self.empno = baseEmp.no\n",
    "        self.name = input(\"Name?\")\n",
    "        self.basicpay = bpay\n",
    "        \n",
    "class scientist(baseEmp):\n",
    "    \n",
    "    def __init__(self):\n",
    "        baseEmp.__init__(self,50000)\n",
    "        self.tech_allowance = input(\"tech allowance?\")\n",
    "        self.category = \"Scientist\"\n",
    "    \n",
    "    def disp(self):\n",
    "        print(\"------\\nName : %s\\nEmpNo : %s\\nBasicpay : %s rs\\nTechAllow : %s\\nCategory : %s\"%(self.name,self.empno,self.basicpay,self.tech_allowance,self.category))\n",
    "        \n",
    "class officer(baseEmp):\n",
    "    \n",
    "    def __init__(self):\n",
    "        baseEmp.__init__(self,30000)\n",
    "        self.grade = input(\"grade?\")\n",
    "        self.department = input(\"department?\")\n",
    "        \n",
    "    def disp(self):\n",
    "        print(\"------\\nName : %s\\nEmpNo : %s\\nBasicpay : %s rs\\nGrade : %s\\nDepartment : %s\"%(self.name,self.empno,self.basicpay,self.grade,self.department))   \n",
    "        \n",
    "        \n",
    "\n",
    "s1=scientist()\n",
    "s2=officer()\n",
    "s1.disp()\n",
    "s2.disp()"
   ]
  }
 ],
 "metadata": {
  "kernelspec": {
   "display_name": "Python 3 (ipykernel)",
   "language": "python",
   "name": "python3"
  },
  "language_info": {
   "codemirror_mode": {
    "name": "ipython",
    "version": 3
   },
   "file_extension": ".py",
   "mimetype": "text/x-python",
   "name": "python",
   "nbconvert_exporter": "python",
   "pygments_lexer": "ipython3",
   "version": "3.7.13"
  }
 },
 "nbformat": 4,
 "nbformat_minor": 4
}
