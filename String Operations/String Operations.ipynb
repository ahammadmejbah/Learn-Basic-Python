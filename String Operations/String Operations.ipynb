{
 "cells": [
  {
   "cell_type": "markdown",
   "metadata": {},
   "source": [
    "### 1. write a program to print the length of a string (without using len() function) using for loop."
   ]
  },
  {
   "cell_type": "code",
   "execution_count": 1,
   "metadata": {},
   "outputs": [
    {
     "name": "stdin",
     "output_type": "stream",
     "text": [
      "Enter string :  Deep Neuron AI\n"
     ]
    },
    {
     "name": "stdout",
     "output_type": "stream",
     "text": [
      "Deep Neuron AI  : length : 14\n"
     ]
    }
   ],
   "source": [
    "def str_len(string):\n",
    "    count = 0\n",
    "    for i in string:\n",
    "        count += 1\n",
    "    print(string,\" : length :\",count)\n",
    "\n",
    "s = input(\"Enter string : \")\n",
    "\n",
    "str_len(s)"
   ]
  },
  {
   "cell_type": "markdown",
   "metadata": {},
   "source": [
    "### Write a program to reverse a given string."
   ]
  },
  {
   "cell_type": "code",
   "execution_count": 2,
   "metadata": {},
   "outputs": [
    {
     "name": "stdin",
     "output_type": "stream",
     "text": [
      "Enter string :  Deep Neuron AI\n"
     ]
    },
    {
     "name": "stdout",
     "output_type": "stream",
     "text": [
      "reverse :  IA norueN peeD\n"
     ]
    }
   ],
   "source": [
    "s= input(\"Enter string : \")\n",
    "print(\"reverse : \",s[::-1])"
   ]
  },
  {
   "cell_type": "markdown",
   "metadata": {},
   "source": [
    "### Write a program to print the no. of occurences of a given character in a given string.\n"
   ]
  },
  {
   "cell_type": "code",
   "execution_count": 3,
   "metadata": {},
   "outputs": [
    {
     "name": "stdin",
     "output_type": "stream",
     "text": [
      "Enter string :  Deep Neuron AI\n",
      "Enter character :  e\n"
     ]
    },
    {
     "name": "stdout",
     "output_type": "stream",
     "text": [
      "Deep Neuron AI  has  3  occurences of  e\n"
     ]
    }
   ],
   "source": [
    "def char_occ(string,character):\n",
    "    count = 0\n",
    "    for i in string:\n",
    "        if(i == character):\n",
    "            count += 1\n",
    "    return count\n",
    "\n",
    "s= input(\"Enter string : \")\n",
    "c= input(\"Enter character : \")\n",
    "\n",
    "print(s,\" has \",char_occ(s,c),\" occurences of \",c)"
   ]
  },
  {
   "cell_type": "markdown",
   "metadata": {},
   "source": [
    "### Write a program to check for at least two vowels in a given string. "
   ]
  },
  {
   "cell_type": "code",
   "execution_count": 4,
   "metadata": {},
   "outputs": [
    {
     "name": "stdin",
     "output_type": "stream",
     "text": [
      "Enter string :  Deep Neuron AI\n"
     ]
    },
    {
     "name": "stdout",
     "output_type": "stream",
     "text": [
      "atleast 2 vowels :  TRUE\n"
     ]
    }
   ],
   "source": [
    "vowels=['a','e','i','o','u','A','E','I','O','U']\n",
    "\n",
    "def vowel_check(string):\n",
    "    count = 0\n",
    "    for i in string:\n",
    "        if(i in vowels):\n",
    "            count += 1\n",
    "        if(count == 2):\n",
    "            return \"TRUE\"\n",
    "    return \"FALSE\"\n",
    "\n",
    "s= input(\"Enter string : \")\n",
    "\n",
    "print(\"atleast 2 vowels : \",vowel_check(s))"
   ]
  },
  {
   "cell_type": "code",
   "execution_count": null,
   "metadata": {},
   "outputs": [],
   "source": []
  }
 ],
 "metadata": {
  "kernelspec": {
   "display_name": "Python 3 (ipykernel)",
   "language": "python",
   "name": "python3"
  },
  "language_info": {
   "codemirror_mode": {
    "name": "ipython",
    "version": 3
   },
   "file_extension": ".py",
   "mimetype": "text/x-python",
   "name": "python",
   "nbconvert_exporter": "python",
   "pygments_lexer": "ipython3",
   "version": "3.7.13"
  }
 },
 "nbformat": 4,
 "nbformat_minor": 4
}
