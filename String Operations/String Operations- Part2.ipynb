{
 "cells": [
  {
   "cell_type": "markdown",
   "metadata": {},
   "source": [
    "### 1. Write a script to reverse a given sentence without reversing words."
   ]
  },
  {
   "cell_type": "code",
   "execution_count": 2,
   "metadata": {},
   "outputs": [
    {
     "name": "stdin",
     "output_type": "stream",
     "text": [
      "Enter string :  Deep Neuron AI\n"
     ]
    },
    {
     "name": "stdout",
     "output_type": "stream",
     "text": [
      "Reverse :  AI Neuron Deep\n"
     ]
    }
   ],
   "source": [
    "def str_rev(string):\n",
    "    w_list=string.split()\n",
    "    return ' '.join( w_list[::-1] )\n",
    "\n",
    "s= input(\"Enter string : \")\n",
    "\n",
    "print(\"Reverse : \",str_rev(s))"
   ]
  },
  {
   "cell_type": "markdown",
   "metadata": {},
   "source": [
    "###  Write a script to print the no. of palindrome words in a given sentence.\n"
   ]
  },
  {
   "cell_type": "code",
   "execution_count": 3,
   "metadata": {},
   "outputs": [
    {
     "name": "stdin",
     "output_type": "stream",
     "text": [
      "Enter string :  Deep Neuron AI\n"
     ]
    },
    {
     "name": "stdout",
     "output_type": "stream",
     "text": [
      "Palindrome words :  0\n"
     ]
    }
   ],
   "source": [
    "def pal_count(string):\n",
    "    count=0\n",
    "    w_list=string.split()\n",
    "    for i in w_list:\n",
    "        if(i == i[::-1]):\n",
    "            count += 1\n",
    "    return count       \n",
    "\n",
    "s= input(\"Enter string : \")\n",
    "\n",
    "print(\"Palindrome words : \",pal_count(s))"
   ]
  },
  {
   "cell_type": "markdown",
   "metadata": {},
   "source": [
    "### Write a script to count letters in a given string(using dict)."
   ]
  },
  {
   "cell_type": "code",
   "execution_count": 4,
   "metadata": {},
   "outputs": [
    {
     "name": "stdin",
     "output_type": "stream",
     "text": [
      "Enter string :  Deep Neuron AI\n"
     ]
    },
    {
     "name": "stdout",
     "output_type": "stream",
     "text": [
      "letter counts :  {'D': 1, 'e': 3, 'p': 1, ' ': 2, 'N': 1, 'u': 1, 'r': 1, 'o': 1, 'n': 1, 'A': 1, 'I': 1}\n"
     ]
    }
   ],
   "source": [
    "def letter_count(string):\n",
    "    l_dict={}\n",
    "    for i in string:\n",
    "        if(i in l_dict):\n",
    "            l_dict[i] += 1\n",
    "        else:\n",
    "            l_dict[i] = 1\n",
    "    return l_dict       \n",
    "\n",
    "s= input(\"Enter string : \")\n",
    "\n",
    "print(\"letter counts : \",letter_count(s))"
   ]
  },
  {
   "cell_type": "markdown",
   "metadata": {},
   "source": [
    "### 4. Write a script to count words in a given sentence (using dict)."
   ]
  },
  {
   "cell_type": "code",
   "execution_count": 5,
   "metadata": {},
   "outputs": [
    {
     "name": "stdin",
     "output_type": "stream",
     "text": [
      "Enter string :  Deep Neuron AI\n"
     ]
    },
    {
     "name": "stdout",
     "output_type": "stream",
     "text": [
      "letter counts :  {'Deep': 1, 'Neuron': 1, 'AI': 1}\n"
     ]
    }
   ],
   "source": [
    "def word_count(string):\n",
    "    w_dict={}\n",
    "    w_list = string.split()\n",
    "    for i in w_list:\n",
    "        if(i in w_dict):\n",
    "            w_dict[i] += 1\n",
    "        else:\n",
    "            w_dict[i] = 1\n",
    "    return w_dict       \n",
    "\n",
    "s= input(\"Enter string : \")\n",
    "\n",
    "print(\"letter counts : \",word_count(s))"
   ]
  },
  {
   "cell_type": "code",
   "execution_count": null,
   "metadata": {},
   "outputs": [],
   "source": []
  }
 ],
 "metadata": {
  "kernelspec": {
   "display_name": "Python 3 (ipykernel)",
   "language": "python",
   "name": "python3"
  },
  "language_info": {
   "codemirror_mode": {
    "name": "ipython",
    "version": 3
   },
   "file_extension": ".py",
   "mimetype": "text/x-python",
   "name": "python",
   "nbconvert_exporter": "python",
   "pygments_lexer": "ipython3",
   "version": "3.7.13"
  }
 },
 "nbformat": 4,
 "nbformat_minor": 4
}
