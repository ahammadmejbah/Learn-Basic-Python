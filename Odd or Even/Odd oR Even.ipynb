{
 "cells": [
  {
   "cell_type": "code",
   "execution_count": 1,
   "id": "a0e317c3-7c6b-41be-a759-c2439da9e06e",
   "metadata": {},
   "outputs": [
    {
     "name": "stdin",
     "output_type": "stream",
     "text": [
      "Enter number :  54\n"
     ]
    },
    {
     "name": "stdout",
     "output_type": "stream",
     "text": [
      "54  is even\n"
     ]
    }
   ],
   "source": [
    "\"\"\" Deep neuron AI\"\"\"\n",
    "\n",
    "def Odd_oR_Even(number):\n",
    "    if(number % 2 == 0):\n",
    "        print(number, \" is even\")\n",
    "    else:\n",
    "        print(number, \" is odd\")\n",
    "\n",
    "x=int(input(\"Enter number : \"))\n",
    "\n",
    "Odd_oR_Even(x)"
   ]
  },
  {
   "cell_type": "code",
   "execution_count": null,
   "id": "9209c8ad-40cb-44f4-9fcf-daab008d8a16",
   "metadata": {},
   "outputs": [],
   "source": []
  }
 ],
 "metadata": {
  "kernelspec": {
   "display_name": "Python 3 (ipykernel)",
   "language": "python",
   "name": "python3"
  },
  "language_info": {
   "codemirror_mode": {
    "name": "ipython",
    "version": 3
   },
   "file_extension": ".py",
   "mimetype": "text/x-python",
   "name": "python",
   "nbconvert_exporter": "python",
   "pygments_lexer": "ipython3",
   "version": "3.7.13"
  }
 },
 "nbformat": 4,
 "nbformat_minor": 5
}
